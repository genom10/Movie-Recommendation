{
 "cells": [
  {
   "cell_type": "code",
   "execution_count": 19,
   "metadata": {},
   "outputs": [],
   "source": [
    "# Standard library imports\n",
    "import pickle\n",
    "import os\n",
    "\n",
    "# Third-party imports\n",
    "import numpy as np\n",
    "import pandas as pd\n",
    "pd.set_option('display.max_colwidth', None)\n",
    "\n",
    "from tqdm.notebook import tqdm\n",
    "from sklearn.neighbors import NearestNeighbors"
   ]
  },
  {
   "cell_type": "markdown",
   "metadata": {},
   "source": [
    "## Load validation dataset"
   ]
  },
  {
   "cell_type": "code",
   "execution_count": 20,
   "metadata": {},
   "outputs": [
    {
     "data": {
      "text/html": [
       "<div>\n",
       "<style scoped>\n",
       "    .dataframe tbody tr th:only-of-type {\n",
       "        vertical-align: middle;\n",
       "    }\n",
       "\n",
       "    .dataframe tbody tr th {\n",
       "        vertical-align: top;\n",
       "    }\n",
       "\n",
       "    .dataframe thead th {\n",
       "        text-align: right;\n",
       "    }\n",
       "</style>\n",
       "<table border=\"1\" class=\"dataframe\">\n",
       "  <thead>\n",
       "    <tr style=\"text-align: right;\">\n",
       "      <th></th>\n",
       "      <th>user_id</th>\n",
       "      <th>item_id</th>\n",
       "      <th>rating</th>\n",
       "      <th>timestamp</th>\n",
       "    </tr>\n",
       "    <tr>\n",
       "      <th>index</th>\n",
       "      <th></th>\n",
       "      <th></th>\n",
       "      <th></th>\n",
       "      <th></th>\n",
       "    </tr>\n",
       "  </thead>\n",
       "  <tbody>\n",
       "    <tr>\n",
       "      <th>27134</th>\n",
       "      <td>186</td>\n",
       "      <td>7</td>\n",
       "      <td>5</td>\n",
       "      <td>879465273</td>\n",
       "    </tr>\n",
       "    <tr>\n",
       "      <th>30669</th>\n",
       "      <td>534</td>\n",
       "      <td>191</td>\n",
       "      <td>5</td>\n",
       "      <td>879617663</td>\n",
       "    </tr>\n",
       "    <tr>\n",
       "      <th>42114</th>\n",
       "      <td>768</td>\n",
       "      <td>734</td>\n",
       "      <td>5</td>\n",
       "      <td>875971655</td>\n",
       "    </tr>\n",
       "    <tr>\n",
       "      <th>22438</th>\n",
       "      <td>639</td>\n",
       "      <td>236</td>\n",
       "      <td>5</td>\n",
       "      <td>874778274</td>\n",
       "    </tr>\n",
       "    <tr>\n",
       "      <th>2186</th>\n",
       "      <td>304</td>\n",
       "      <td>13</td>\n",
       "      <td>4</td>\n",
       "      <td>886322893</td>\n",
       "    </tr>\n",
       "  </tbody>\n",
       "</table>\n",
       "</div>"
      ],
      "text/plain": [
       "       user_id  item_id  rating  timestamp\n",
       "index                                     \n",
       "27134      186        7       5  879465273\n",
       "30669      534      191       5  879617663\n",
       "42114      768      734       5  875971655\n",
       "22438      639      236       5  874778274\n",
       "2186       304       13       4  886322893"
      ]
     },
     "execution_count": 20,
     "metadata": {},
     "output_type": "execute_result"
    }
   ],
   "source": [
    "columns_name=['index','user_id','item_id','rating','timestamp']\n",
    "val = pd.read_csv(\"../data/interim/val-1-core.csv\", index_col=0, sep=\",\", names=columns_name, header=0)\n",
    "val.head()"
   ]
  },
  {
   "cell_type": "markdown",
   "metadata": {},
   "source": [
    "## Load models"
   ]
  },
  {
   "cell_type": "code",
   "execution_count": 21,
   "metadata": {},
   "outputs": [],
   "source": [
    "model_path = '../models/'"
   ]
  },
  {
   "cell_type": "code",
   "execution_count": 22,
   "metadata": {},
   "outputs": [],
   "source": [
    "with open(os.path.join(model_path, f'KNN/knnpickle_file.pickle'), 'rb') as knnPickle:\n",
    "    knn_model = pickle.load(knnPickle) "
   ]
  },
  {
   "cell_type": "code",
   "execution_count": 23,
   "metadata": {},
   "outputs": [],
   "source": [
    "with open ('../data/interim/user2movie-20-core.pickle', 'rb') as file:\n",
    "    user_to_movie_sparse_df = pickle.load(file)"
   ]
  },
  {
   "cell_type": "code",
   "execution_count": 24,
   "metadata": {},
   "outputs": [
    {
     "data": {
      "text/plain": [
       "0                                 Toy Story (1995)\n",
       "1                                 GoldenEye (1995)\n",
       "2                                Four Rooms (1995)\n",
       "3                                Get Shorty (1995)\n",
       "4                                   Copycat (1995)\n",
       "                           ...                    \n",
       "1225               Night Falls on Manhattan (1997)\n",
       "1227          Under Siege 2: Dark Territory (1995)\n",
       "1239    Ghost in the Shell (Kokaku kidotai) (1995)\n",
       "1243                                  Metro (1997)\n",
       "1266                               Clockers (1995)\n",
       "Name: movie title, Length: 811, dtype: object"
      ]
     },
     "execution_count": 24,
     "metadata": {},
     "output_type": "execute_result"
    }
   ],
   "source": [
    "movies_list = pd.read_csv(\"../data/interim/item-library.csv\", index_col=0, sep=\",\", header=0)['movie title']\n",
    "movies_list"
   ]
  },
  {
   "cell_type": "code",
   "execution_count": 25,
   "metadata": {},
   "outputs": [],
   "source": [
    "## function to find top n similar users of the given input user \n",
    "def get_similar_users(user, knn_size = 5, verbose = False):\n",
    "  ## input to this function is the user and number of top similar users you want.\n",
    "\n",
    "  knn_input = np.asarray([user_to_movie_sparse_df[user-1].toarray()]).reshape(1,-1)\n",
    "  # knn_input = user_to_movie_df.iloc[0,:].values.reshape(1,-1)\n",
    "  distances, indices = knn_model.kneighbors(knn_input, n_neighbors=knn_size+1)\n",
    "  if verbose:\n",
    "    print(\"Top\",knn_size,\"users who are very much similar to the User-\",user, \"are: \")\n",
    "    print(\" \")\n",
    "    for i in range(1,len(distances[0])):\n",
    "      print(i,\". User:\", indices[0][i]+1, \"separated by distance of\",distances[0][i])\n",
    "  return indices.flatten()[1:] + 1, distances.flatten()[1:]"
   ]
  },
  {
   "cell_type": "code",
   "execution_count": 26,
   "metadata": {},
   "outputs": [],
   "source": [
    "from pprint import pprint\n",
    "def recommend_movies(user_id, n, knn_size=5, verbose = False):\n",
    "    similar_user_list, distance_list = get_similar_users(user_id, knn_size, verbose=verbose)\n",
    "    weightage_list = distance_list/np.sum(distance_list)\n",
    "    mov_rtngs_sim_users = user_to_movie_sparse_df[similar_user_list].toarray()\n",
    "    weightage_list = weightage_list[:,np.newaxis] + np.zeros(len(movies_list))\n",
    "    new_rating_matrix = weightage_list*mov_rtngs_sim_users\n",
    "    mean_rating_list = new_rating_matrix.sum(axis = 0)\n",
    "\n",
    "    n = min(len(mean_rating_list),n)\n",
    "\n",
    "    if verbose:\n",
    "        print(\" Few of movies seen by the User:\")\n",
    "        pprint(list(val[val['user_id'] == user_id]['item_id'])[:10])\n",
    "        print(f'{similar_user_list=}', f'{distance_list=}')\n",
    "        print(f'{weightage_list=}')\n",
    "        print(f'{mov_rtngs_sim_users=}')\n",
    "        print(\"Weightage list shape:\", len(weightage_list))\n",
    "        print(\"mov_rtngs_sim_users shape:\", mov_rtngs_sim_users.shape)\n",
    "        print(\"Number of movies:\", len(movies_list))\n",
    "        print(f'{weightage_list.shape=}')\n",
    "        \n",
    "    return list(np.argsort(mean_rating_list)[::-1][:n])"
   ]
  },
  {
   "cell_type": "code",
   "execution_count": 34,
   "metadata": {},
   "outputs": [
    {
     "name": "stdout",
     "output_type": "stream",
     "text": [
      "[90, 273, 160, 8, 104]\n"
     ]
    }
   ],
   "source": [
    "result = recommend_movies(val['user_id'].iloc[1], n=5)\n",
    "print(result)"
   ]
  },
  {
   "cell_type": "markdown",
   "metadata": {},
   "source": [
    "I don't get how to make recall/precision calculation for KNN"
   ]
  }
 ],
 "metadata": {
  "kernelspec": {
   "display_name": "Python 3",
   "language": "python",
   "name": "python3"
  },
  "language_info": {
   "codemirror_mode": {
    "name": "ipython",
    "version": 3
   },
   "file_extension": ".py",
   "mimetype": "text/x-python",
   "name": "python",
   "nbconvert_exporter": "python",
   "pygments_lexer": "ipython3",
   "version": "3.10.12"
  }
 },
 "nbformat": 4,
 "nbformat_minor": 2
}
